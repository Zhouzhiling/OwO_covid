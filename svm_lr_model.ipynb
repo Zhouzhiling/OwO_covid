{
 "cells": [
  {
   "cell_type": "markdown",
   "metadata": {},
   "source": [
    "# Introduction"
   ]
  },
  {
   "cell_type": "code",
   "execution_count": null,
   "metadata": {},
   "outputs": [],
   "source": [
    "# In this file, we will divide the counties in US into 4 groups according to their reported deaths number.\n",
    "# Then we will train different models for different groups of counties using curve fitting and svm."
   ]
  },
  {
   "cell_type": "markdown",
   "metadata": {},
   "source": [
    "# Dependencies"
   ]
  },
  {
   "cell_type": "code",
   "execution_count": 1,
   "metadata": {},
   "outputs": [],
   "source": [
    "from linear_regression import LinearRegressor\n",
    "from svm import SVM\n",
    "from output import Output\n",
    "from model_scoring_evaluation import generate_day_tag, score_all_predictions\n",
    "import pandas as pd\n",
    "import numpy as np"
   ]
  },
  {
   "cell_type": "markdown",
   "metadata": {},
   "source": [
    "# Linear Regression"
   ]
  },
  {
   "cell_type": "code",
   "execution_count": null,
   "metadata": {},
   "outputs": [],
   "source": [
    "# First of all, we fit the death data from the counties that reported less than 14 deaths during the past two weeks."
   ]
  },
  {
   "cell_type": "code",
   "execution_count": 2,
   "metadata": {},
   "outputs": [
    {
     "name": "stdout",
     "output_type": "stream",
     "text": [
      "Day: 0. Training acc: 8.100000\n",
      "Day: 1. Training acc: 7.900000\n",
      "Day: 2. Training acc: 7.920000\n",
      "Day: 3. Training acc: 7.370000\n",
      "Day: 4. Training acc: 6.660000\n",
      "Day: 5. Training acc: 6.300000\n",
      "Day: 6. Training acc: 5.540000\n",
      "Day: 7. Training acc: 4.640000\n",
      "Day: 8. Training acc: 3.670000\n",
      "Day: 9. Training acc: 3.160000\n",
      "Day: 10. Training acc: 2.860000\n",
      "Day: 11. Training acc: 2.530000\n",
      "Day: 12. Training acc: 2.150000\n",
      "Day: 13. Training acc: 1.870000\n",
      "Predictions saved as models/LR/lr_burning.csv\n"
     ]
    }
   ],
   "source": [
    "lr = LinearRegressor()\n",
    "lr.train()\n",
    "lr.test()"
   ]
  },
  {
   "cell_type": "code",
   "execution_count": null,
   "metadata": {},
   "outputs": [],
   "source": [
    "# Then we can write our predictions to 'sample_submission.csv' in order to calculate pinball loss."
   ]
  },
  {
   "cell_type": "code",
   "execution_count": 3,
   "metadata": {},
   "outputs": [
    {
     "name": "stdout",
     "output_type": "stream",
     "text": [
      "0/293293\n",
      "100000/293293\n",
      "200000/293293\n",
      "Successfully saved!\n"
     ]
    }
   ],
   "source": [
    "source = 'models/LR/lr_burning.csv'\n",
    "dst = 'submissions/submission_svm_lr_model.csv'\n",
    "output = Output()\n",
    "output.save_submission(source, dst)"
   ]
  },
  {
   "cell_type": "code",
   "execution_count": null,
   "metadata": {},
   "outputs": [],
   "source": [
    "# Secondly, we fit the death data from the counties that reported less than 140 deaths during the past two weeks."
   ]
  },
  {
   "cell_type": "code",
   "execution_count": 5,
   "metadata": {},
   "outputs": [
    {
     "name": "stdout",
     "output_type": "stream",
     "text": [
      "Day: 0. Training acc: 26.560000\n",
      "Day: 1. Training acc: 29.960000\n",
      "Day: 2. Training acc: 29.580000\n",
      "Day: 3. Training acc: 29.220000\n",
      "Day: 4. Training acc: 29.600000\n",
      "Day: 5. Training acc: 28.230000\n",
      "Day: 6. Training acc: 25.610000\n",
      "Day: 7. Training acc: 21.670000\n",
      "Day: 8. Training acc: 17.930000\n",
      "Day: 9. Training acc: 17.020000\n",
      "Day: 10. Training acc: 17.260000\n",
      "Day: 11. Training acc: 13.400000\n",
      "Day: 12. Training acc: 12.030000\n",
      "Day: 13. Training acc: 9.910000\n",
      "Predictions saved as models/LR/lr_mid.csv\n"
     ]
    }
   ],
   "source": [
    "lr = LinearRegressor()\n",
    "lr.train('mid')\n",
    "lr.test('mid')"
   ]
  },
  {
   "cell_type": "code",
   "execution_count": null,
   "metadata": {},
   "outputs": [],
   "source": [
    "# Again, we write our submission to our output file."
   ]
  },
  {
   "cell_type": "code",
   "execution_count": 6,
   "metadata": {},
   "outputs": [
    {
     "name": "stdout",
     "output_type": "stream",
     "text": [
      "0/293293\n",
      "100000/293293\n",
      "200000/293293\n",
      "Successfully saved!\n"
     ]
    }
   ],
   "source": [
    "source = 'models/LR/lr_mid.csv'\n",
    "dst = 'submissions/submission_svm_lr_model.csv'\n",
    "output = Output('submissions/submission_svm_lr_model.csv')\n",
    "output.save_submission(source, dst)"
   ]
  },
  {
   "cell_type": "markdown",
   "metadata": {},
   "source": [
    "# SVM"
   ]
  },
  {
   "cell_type": "code",
   "execution_count": null,
   "metadata": {},
   "outputs": [],
   "source": [
    "# Then we use SVM model to fit counties with more deaths. We divide these counties into two groups and we will build different models for them.\n",
    "# So we fit the data of counties which reported more than 140 but less than 700 deaths during past two weeks using SVM model."
   ]
  },
  {
   "cell_type": "code",
   "execution_count": 7,
   "metadata": {},
   "outputs": [
    {
     "name": "stdout",
     "output_type": "stream",
     "text": [
      "Date: 0. Training acc: 52.620000\n",
      "Date: 1. Training acc: 52.050000\n",
      "Date: 2. Training acc: 49.590000\n",
      "Date: 3. Training acc: 50.470000\n",
      "Date: 4. Training acc: 49.130000\n",
      "Date: 5. Training acc: 48.710000\n",
      "Date: 6. Training acc: 48.140000\n",
      "Date: 7. Training acc: 42.740000\n",
      "Date: 8. Training acc: 39.460000\n",
      "Date: 9. Training acc: 35.390000\n",
      "Date: 10. Training acc: 37.360000\n",
      "Date: 11. Training acc: 38.570000\n",
      "Date: 12. Training acc: 37.890000\n",
      "Date: 13. Training acc: 35.570000\n",
      "Predictions saved as models/SVM/svm_mid2.csv\n"
     ]
    }
   ],
   "source": [
    "s = SVM()\n",
    "s.train('mid2')\n",
    "s.test('mid2')"
   ]
  },
  {
   "cell_type": "code",
   "execution_count": 8,
   "metadata": {},
   "outputs": [
    {
     "name": "stdout",
     "output_type": "stream",
     "text": [
      "0/293293\n",
      "100000/293293\n",
      "200000/293293\n",
      "Successfully saved!\n"
     ]
    }
   ],
   "source": [
    "source = 'models/SVM/svm_mid2.csv'\n",
    "dst = 'submissions/submission_svm_lr_model.csv'\n",
    "output = Output('submissions/submission_svm_lr_model.csv')\n",
    "output.save_submission(source, dst)"
   ]
  },
  {
   "cell_type": "code",
   "execution_count": null,
   "metadata": {},
   "outputs": [],
   "source": [
    "# Finally, we fit the data of counties which reported more than 700 deaths during past two weeks."
   ]
  },
  {
   "cell_type": "code",
   "execution_count": 8,
   "metadata": {},
   "outputs": [
    {
     "name": "stdout",
     "output_type": "stream",
     "text": [
      "Date: 0. Training acc: 86.470000\n",
      "Date: 1. Training acc: 87.360000\n",
      "Date: 2. Training acc: 87.950000\n",
      "Date: 3. Training acc: 86.260000\n",
      "Date: 4. Training acc: 82.430000\n",
      "Date: 5. Training acc: 83.740000\n",
      "Date: 6. Training acc: 84.630000\n",
      "Date: 7. Training acc: 84.260000\n",
      "Date: 8. Training acc: 85.710000\n",
      "Date: 9. Training acc: 83.400000\n",
      "Date: 10. Training acc: 83.860000\n",
      "Date: 11. Training acc: 83.130000\n",
      "Date: 12. Training acc: 76.950000\n",
      "Date: 13. Training acc: 71.780000\n",
      "Predictions saved as models/SVM/svm_outbreak.csv\n"
     ]
    }
   ],
   "source": [
    "s = SVM()\n",
    "s.train()\n",
    "s.test()"
   ]
  },
  {
   "cell_type": "code",
   "execution_count": 9,
   "metadata": {},
   "outputs": [
    {
     "name": "stdout",
     "output_type": "stream",
     "text": [
      "0/293293\n",
      "100000/293293\n",
      "200000/293293\n",
      "Successfully saved!\n"
     ]
    }
   ],
   "source": [
    "source = 'models/SVM/svm_outbreak.csv'\n",
    "dst = 'submissions/submission_svm_lr_model.csv'\n",
    "output = Output('submissions/submission_svm_lr_model.csv')\n",
    "output.save_submission(source, dst)"
   ]
  },
  {
   "cell_type": "markdown",
   "metadata": {},
   "source": [
    "# Pinball Loss"
   ]
  },
  {
   "cell_type": "code",
   "execution_count": null,
   "metadata": {},
   "outputs": [],
   "source": [
    "# Now we can calculate pinball loss of our model to see the performance."
   ]
  },
  {
   "cell_type": "code",
   "execution_count": 10,
   "metadata": {},
   "outputs": [
    {
     "name": "stdout",
     "output_type": "stream",
     "text": [
      "Day 2020-05-18: pinball=0.141824 mse=5.507602\n",
      "Day 2020-05-19: pinball=0.229476 mse=9.346572\n",
      "Day 2020-05-20: pinball=0.229755 mse=8.532733\n",
      "Day 2020-05-21: pinball=0.206330 mse=5.901334\n",
      "Day 2020-05-22: pinball=0.198107 mse=7.022960\n",
      "Day 2020-05-23: pinball=0.162344 mse=4.504189\n",
      "Day 2020-05-24: pinball=0.092802 mse=3.150791\n"
     ]
    }
   ],
   "source": [
    "pred_file = 'submissions/submission_svm_lr_model.csv'\n",
    "\n",
    "start_date = '2020-05-18'\n",
    "predicted_length = 7\n",
    "date_list = generate_day_tag(start_date, predicted_length)\n",
    "for day in date_list:\n",
    "    scores = score_all_predictions(pred_file, day, '2020-05-17', key='deaths')\n",
    "    scores_mse = score_all_predictions(pred_file, day, '2020-05-17', key='deaths', mse=True)\n",
    "    print(\"Day %s: pinball=%f mse=%f\" % (day, scores[0], scores_mse[0]))"
   ]
  }
 ],
 "metadata": {
  "kernelspec": {
   "display_name": "Python 3",
   "language": "python",
   "name": "python3"
  },
  "language_info": {
   "codemirror_mode": {
    "name": "ipython",
    "version": 3
   },
   "file_extension": ".py",
   "mimetype": "text/x-python",
   "name": "python",
   "nbconvert_exporter": "python",
   "pygments_lexer": "ipython3",
   "version": "3.7.4"
  }
 },
 "nbformat": 4,
 "nbformat_minor": 2
}
